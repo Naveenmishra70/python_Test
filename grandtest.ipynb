{
  "nbformat": 4,
  "nbformat_minor": 0,
  "metadata": {
    "colab": {
      "provenance": []
    },
    "kernelspec": {
      "name": "python3",
      "display_name": "Python 3"
    },
    "language_info": {
      "name": "python"
    }
  },
  "cells": [
    {
      "cell_type": "code",
      "execution_count": null,
      "metadata": {
        "colab": {
          "base_uri": "https://localhost:8080/"
        },
        "id": "2HkF_gBvzGNu",
        "outputId": "8783239f-1e13-46ef-cb44-cb9477cb6221"
      },
      "outputs": [
        {
          "output_type": "execute_result",
          "data": {
            "text/plain": [
              "20"
            ]
          },
          "metadata": {},
          "execution_count": 3
        }
      ],
      "source": [
        "# 1,2,3,4,5,6,12,13,14,15,20,18,28,29,24,,10,11,7,8\n",
        "\n",
        "# 1..\n",
        "t1 = ('orange',[10,20,30],(4,15,25))\n",
        "#a = list(enumerate(tuple1))\n",
        "a = t1[1][1]"
      ]
    },
    {
      "cell_type": "code",
      "source": [
        "# 2...\n",
        "T1 = ()\n",
        "type(T1)"
      ],
      "metadata": {
        "id": "Z5GO-JlJzwrE",
        "colab": {
          "base_uri": "https://localhost:8080/"
        },
        "outputId": "ebb0ed84-0df4-4536-d01e-5773a4d08cbb"
      },
      "execution_count": null,
      "outputs": [
        {
          "output_type": "execute_result",
          "data": {
            "text/plain": [
              "tuple"
            ]
          },
          "metadata": {},
          "execution_count": 1
        }
      ]
    },
    {
      "cell_type": "code",
      "source": [
        "# 3......\n",
        "l = [50,20,30,100,80,70]\n",
        "for i in range (len(l)):\n",
        "    if l[i]==100:\n",
        "        print('100 is at index ',i)"
      ],
      "metadata": {
        "colab": {
          "base_uri": "https://localhost:8080/"
        },
        "id": "FOeroex7-uHf",
        "outputId": "d73aab75-d06a-4ca2-f23d-4deebe457501"
      },
      "execution_count": null,
      "outputs": [
        {
          "output_type": "stream",
          "name": "stdout",
          "text": [
            "100 is at index  3\n"
          ]
        }
      ]
    },
    {
      "cell_type": "code",
      "source": [
        "# 4......\n",
        "n = int(input('enter a number '))\n",
        "sum = 0\n",
        "for i in range(1,n+1):\n",
        "    sum += i\n",
        "print(sum)\n"
      ],
      "metadata": {
        "colab": {
          "base_uri": "https://localhost:8080/"
        },
        "id": "gt6QUFy-_eQ5",
        "outputId": "434b1408-50a3-41e5-ccf1-48b338175b70"
      },
      "execution_count": null,
      "outputs": [
        {
          "output_type": "stream",
          "name": "stdout",
          "text": [
            "enter a number 7\n",
            "28\n"
          ]
        }
      ]
    },
    {
      "cell_type": "code",
      "source": [
        "# 5.......\n",
        "lower_value = int(input('enter the lowest value '))\n",
        "upper_value = int(input('enter the lowest value '))\n",
        "for num in range(lower_value,upper_value+1):\n",
        "  if num>1:\n",
        "      for i in range(2,num):\n",
        "        if(num%i)==0:\n",
        "          break\n",
        "      else:\n",
        "        print(i)"
      ],
      "metadata": {
        "id": "qOYbrnSo__h9"
      },
      "execution_count": null,
      "outputs": []
    },
    {
      "cell_type": "code",
      "source": [
        "# 6.."
      ],
      "metadata": {
        "id": "JNq2B86bB1Kk"
      },
      "execution_count": null,
      "outputs": []
    },
    {
      "cell_type": "code",
      "source": [
        "# 7....\n",
        "a = [10,20,60,40,10,60,30,20]\n",
        "b = []\n",
        "for i in a:\n",
        "    if i in b:\n",
        "        continue\n",
        "    else:\n",
        "       b.append(i)\n",
        "print(b)"
      ],
      "metadata": {
        "colab": {
          "base_uri": "https://localhost:8080/"
        },
        "id": "Z076zx4yATtn",
        "outputId": "b97965e0-6ff7-48fc-893a-99bd06dff23c"
      },
      "execution_count": null,
      "outputs": [
        {
          "output_type": "stream",
          "name": "stdout",
          "text": [
            "[10, 20, 60, 40, 30]\n"
          ]
        }
      ]
    },
    {
      "cell_type": "code",
      "source": [
        "# 8.....\n",
        "s = input('enter a string ')\n",
        "if s==s[::-1]:\n",
        "    print('string is palindrome')\n",
        "else:\n",
        "  print('string is not a palindrome')"
      ],
      "metadata": {
        "colab": {
          "base_uri": "https://localhost:8080/"
        },
        "id": "MLaMNE48BIeE",
        "outputId": "d191e46f-9b6b-4832-b3f2-0ad6ab6ff914"
      },
      "execution_count": null,
      "outputs": [
        {
          "output_type": "stream",
          "name": "stdout",
          "text": [
            "enter a string oyo\n",
            "string is palindrome\n"
          ]
        }
      ]
    },
    {
      "cell_type": "code",
      "source": [
        "# 9....."
      ],
      "metadata": {
        "id": "q-30auOrBxSl"
      },
      "execution_count": null,
      "outputs": []
    },
    {
      "cell_type": "code",
      "source": [
        "# 10.....\n",
        "a = 'python is dynamic launguage '\n",
        "b = input('enter a substring ')\n",
        "if b in a:\n",
        "    print('yes present')\n",
        "else:\n",
        "    print('not present')\n"
      ],
      "metadata": {
        "colab": {
          "base_uri": "https://localhost:8080/"
        },
        "id": "JtmsbeXMB30Q",
        "outputId": "1414df4b-fbf7-4eb6-c790-9f7f41907c57"
      },
      "execution_count": null,
      "outputs": [
        {
          "output_type": "stream",
          "name": "stdout",
          "text": [
            "enter a substring is\n",
            "yes present\n"
          ]
        }
      ]
    },
    {
      "cell_type": "code",
      "source": [
        "# 11......\n",
        "n = int(input('enter a index '))\n",
        "l = [1,2,3,4,5,6,7,8,9]\n",
        "l[:n+1]"
      ],
      "metadata": {
        "colab": {
          "base_uri": "https://localhost:8080/"
        },
        "id": "OXjEtGb1CWR_",
        "outputId": "8de274ba-771a-4a2c-84d5-73c1f659a0dd"
      },
      "execution_count": null,
      "outputs": [
        {
          "name": "stdout",
          "output_type": "stream",
          "text": [
            "enter a index 0\n"
          ]
        },
        {
          "output_type": "execute_result",
          "data": {
            "text/plain": [
              "[1]"
            ]
          },
          "metadata": {},
          "execution_count": 16
        }
      ]
    },
    {
      "cell_type": "code",
      "source": [
        "# 12....\n",
        "d = {'name' : 12,\n",
        "     'course' : 'bca',\n",
        "     'name' : 'naveen'}\n",
        "print(d.keys())"
      ],
      "metadata": {
        "colab": {
          "base_uri": "https://localhost:8080/"
        },
        "id": "dwROBN210Ch3",
        "outputId": "c969bedf-447c-4b74-8f13-bdb83ec10e86"
      },
      "execution_count": null,
      "outputs": [
        {
          "output_type": "stream",
          "name": "stdout",
          "text": [
            "dict_keys(['name', 'course'])\n"
          ]
        }
      ]
    },
    {
      "cell_type": "code",
      "source": [
        "# 13....\n",
        "a = [3,5,4,8,2,9,10,17,1]\n",
        "a.sort(reverse=True)\n",
        "print(a)\n"
      ],
      "metadata": {
        "id": "mYbkZttY1uk_",
        "colab": {
          "base_uri": "https://localhost:8080/"
        },
        "outputId": "e3bfca1b-9a34-48bf-e5c8-0700a9bea03d"
      },
      "execution_count": null,
      "outputs": [
        {
          "output_type": "stream",
          "name": "stdout",
          "text": [
            "[17, 10, 9, 8, 5, 4, 3, 2, 1]\n"
          ]
        }
      ]
    },
    {
      "cell_type": "code",
      "source": [
        "# 14.....\n",
        "q = 'python is dynamic'\n",
        "q = q.replace(' ','')\n",
        "a = len(q)\n",
        "print('character length avoiding space ',str(a))\n"
      ],
      "metadata": {
        "id": "Qm_w1ZteDxlb"
      },
      "execution_count": null,
      "outputs": []
    },
    {
      "cell_type": "code",
      "source": [
        "# 15..\n",
        "a = [5,4,8,3,10]\n",
        "a[::-1]\n",
        "a"
      ],
      "metadata": {
        "colab": {
          "base_uri": "https://localhost:8080/"
        },
        "id": "m4VS7Eep2KBq",
        "outputId": "a432dcf4-3fcd-4753-a053-e4af09fbf235"
      },
      "execution_count": null,
      "outputs": [
        {
          "output_type": "execute_result",
          "data": {
            "text/plain": [
              "[5, 4, 8, 3, 10]"
            ]
          },
          "metadata": {},
          "execution_count": 22
        }
      ]
    },
    {
      "cell_type": "code",
      "source": [
        "# 16....."
      ],
      "metadata": {
        "id": "G1QheOC_EEFd"
      },
      "execution_count": null,
      "outputs": []
    },
    {
      "cell_type": "code",
      "source": [
        "# 20....\n",
        "a = [2,4,6,3,8,5,8]\n",
        "a.insert(2,25)\n",
        "a\n"
      ],
      "metadata": {
        "colab": {
          "base_uri": "https://localhost:8080/"
        },
        "id": "dVdwi_ME2gF1",
        "outputId": "13552980-0aae-486b-f75a-b1d017ee1890"
      },
      "execution_count": null,
      "outputs": [
        {
          "output_type": "execute_result",
          "data": {
            "text/plain": [
              "[2, 4, 25, 6, 3, 8, 5, 8]"
            ]
          },
          "metadata": {},
          "execution_count": 24
        }
      ]
    },
    {
      "cell_type": "code",
      "source": [
        "# 18.....\n",
        "a = input('enter a number ')\n",
        "len(a)"
      ],
      "metadata": {
        "colab": {
          "base_uri": "https://localhost:8080/"
        },
        "id": "Ek6CnV_X3nP5",
        "outputId": "1f73d9b5-27a1-40fd-abbf-d209d6a376c5"
      },
      "execution_count": null,
      "outputs": [
        {
          "name": "stdout",
          "output_type": "stream",
          "text": [
            "enter a number 2345\n"
          ]
        },
        {
          "output_type": "execute_result",
          "data": {
            "text/plain": [
              "4"
            ]
          },
          "metadata": {},
          "execution_count": 27
        }
      ]
    },
    {
      "cell_type": "code",
      "source": [],
      "metadata": {
        "colab": {
          "base_uri": "https://localhost:8080/"
        },
        "id": "se9LrbfM5BYo",
        "outputId": "37c2b03e-6bc5-43c1-ad44-bd9141ad4477"
      },
      "execution_count": null,
      "outputs": [
        {
          "output_type": "stream",
          "name": "stdout",
          "text": [
            "character length avoiding space  15\n"
          ]
        }
      ]
    },
    {
      "cell_type": "code",
      "source": [
        "# 28.....\n",
        "x = []\n",
        "for i in range(300,801):\n",
        "    a = str(i)\n",
        "    if int(a[0])%2==0 and int(a[1])%2==0 and int(a[2])%2==0:\n",
        "       x.append(i)\n",
        "print(x)"
      ],
      "metadata": {
        "colab": {
          "base_uri": "https://localhost:8080/"
        },
        "id": "XSlOnZyu7jK_",
        "outputId": "ce64ba3d-0d7f-40c2-ceb9-834b8b8ec905"
      },
      "execution_count": null,
      "outputs": [
        {
          "output_type": "stream",
          "name": "stdout",
          "text": [
            "[400, 402, 404, 406, 408, 420, 422, 424, 426, 428, 440, 442, 444, 446, 448, 460, 462, 464, 466, 468, 480, 482, 484, 486, 488, 600, 602, 604, 606, 608, 620, 622, 624, 626, 628, 640, 642, 644, 646, 648, 660, 662, 664, 666, 668, 680, 682, 684, 686, 688, 800]\n"
          ]
        }
      ]
    },
    {
      "cell_type": "code",
      "source": [
        "# 29......\n",
        "a = [13,2,7,4,6,9,10,]\n",
        "b = [16,8,3,2,9,17,14]\n",
        "c = []\n",
        "for i in a:\n",
        "  if i%2!=0:\n",
        "      c.append(i)\n",
        "for i in b:\n",
        "  if i%2==0:\n",
        "      c.append(i)\n",
        "print('new list are ',c)"
      ],
      "metadata": {
        "colab": {
          "base_uri": "https://localhost:8080/"
        },
        "id": "IeVXRjuZ9gfH",
        "outputId": "3c3ec21a-9879-4024-d1c9-1ec50deb0604"
      },
      "execution_count": null,
      "outputs": [
        {
          "output_type": "stream",
          "name": "stdout",
          "text": [
            "new list are  [13, 7, 9, 16, 8, 2, 14]\n"
          ]
        }
      ]
    },
    {
      "cell_type": "code",
      "source": [
        "# 24....\n",
        "speed = int(input('enter speed '))\n",
        "if speed<50:\n",
        "    print('OK')\n",
        "elif speed>50 and speed<=60:\n",
        "    print('average')\n",
        "elif speed>60 and speed<132:\n",
        "    b = (speed-60)/8*1\n",
        "    print('point is ',b)\n",
        "elif speed>132:\n",
        "    print('licence suspended')\n"
      ],
      "metadata": {
        "colab": {
          "base_uri": "https://localhost:8080/"
        },
        "id": "-QjpRmC-APbW",
        "outputId": "4f2c4f4b-73c4-4d4a-9a35-312f5c74b0b7"
      },
      "execution_count": null,
      "outputs": [
        {
          "output_type": "stream",
          "name": "stdout",
          "text": [
            "enter speed 76\n",
            "point is  2.0\n"
          ]
        }
      ]
    },
    {
      "cell_type": "code",
      "source": [],
      "metadata": {
        "id": "Fq6xvgNwFWll"
      },
      "execution_count": null,
      "outputs": []
    },
    {
      "cell_type": "code",
      "source": [],
      "metadata": {
        "id": "oidQGmBtHzIU"
      },
      "execution_count": null,
      "outputs": []
    },
    {
      "cell_type": "code",
      "source": [
        "# 11....\n",
        "a = [2,4,5,8,5]\n",
        "a.remove(4)\n",
        "a"
      ],
      "metadata": {
        "id": "Q9pImNP7ITLA"
      },
      "execution_count": null,
      "outputs": []
    },
    {
      "cell_type": "code",
      "source": [
        "# 7....\n",
        "a = [2,4,6,4,8,2,6,4]\n",
        "l = set(a)\n",
        "print('perfect list are ')\n",
        "b = (list(l))\n",
        "for i in l:\n",
        "  print(i)\n"
      ],
      "metadata": {
        "colab": {
          "base_uri": "https://localhost:8080/"
        },
        "id": "Vp8-h82_JAu6",
        "outputId": "3c3923c1-9fb3-4a6d-b3d2-476a4557d425"
      },
      "execution_count": null,
      "outputs": [
        {
          "output_type": "stream",
          "name": "stdout",
          "text": [
            "perfect list are \n",
            "8\n",
            "2\n",
            "4\n",
            "6\n"
          ]
        }
      ]
    },
    {
      "cell_type": "code",
      "source": [
        "\n"
      ],
      "metadata": {
        "id": "lCZDcr05L970"
      },
      "execution_count": null,
      "outputs": []
    },
    {
      "cell_type": "code",
      "source": [
        "a = 'ABCDEFGHIJKLMNOQRSTUVWXYZ'\n"
      ],
      "metadata": {
        "id": "VcMgtlw5Norf"
      },
      "execution_count": null,
      "outputs": []
    }
  ]
}